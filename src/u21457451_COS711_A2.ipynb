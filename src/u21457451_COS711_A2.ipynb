{
  "nbformat": 4,
  "nbformat_minor": 0,
  "metadata": {
    "colab": {
      "provenance": [],
      "authorship_tag": "ABX9TyPP1qbLZK901udaAfBx5oC9",
      "include_colab_link": true
    },
    "kernelspec": {
      "name": "python3",
      "display_name": "Python 3"
    },
    "language_info": {
      "name": "python"
    }
  },
  "cells": [
    {
      "cell_type": "markdown",
      "metadata": {
        "id": "view-in-github",
        "colab_type": "text"
      },
      "source": [
        "<a href=\"https://colab.research.google.com/github/08Arno30/COS711-A2/blob/main/src/u21457451_COS711_A2.ipynb\" target=\"_parent\"><img src=\"https://colab.research.google.com/assets/colab-badge.svg\" alt=\"Open In Colab\"/></a>"
      ]
    },
    {
      "cell_type": "markdown",
      "source": [
        "# COS711-A2\n",
        "\n",
        "## Introduction\n",
        "\n",
        "This project involves developing a neural network (NN) to classify almonds into three different types based on numeric features extracted from their images. The dataset contains a variety of almond samples, with the purpose of accurately categorising them using machine learning techniques. To accomplish this, the following steps are necessary:\n",
        "\n",
        "1. **Data Preprocessing**: Clean and prepare the dataset for optimal results during training.\n",
        "2. **Hyperparameter Optimisation**: Fine-tune the neural network's hyperparameters to improve classification accuracy.\n",
        "3. **A Comparative Study of Gradient-Based Algorithms**: Evaluate the performance of several gradient-based optimisation strategies to determine the most effective strategy for training the NN.\n",
        "4. **Hybrid Training Algorithm**: Create a new algorithm that uses gradient information from other optimisation approaches to increase convergence and performance.\n",
        "\n",
        "The project's goal with these steps is to develop a strong classification model while also investigating advanced training approaches."
      ],
      "metadata": {
        "id": "rY8f4TTbzNiB"
      }
    },
    {
      "cell_type": "code",
      "execution_count": null,
      "metadata": {
        "id": "ggI1JCtizJuh"
      },
      "outputs": [],
      "source": []
    }
  ]
}