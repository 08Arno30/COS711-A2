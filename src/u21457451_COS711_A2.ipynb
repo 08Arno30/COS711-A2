{
  "nbformat": 4,
  "nbformat_minor": 0,
  "metadata": {
    "colab": {
      "provenance": [],
      "authorship_tag": "ABX9TyM6azM4Lm2GK1KEoWSV4HLV",
      "include_colab_link": true
    },
    "kernelspec": {
      "name": "python3",
      "display_name": "Python 3"
    },
    "language_info": {
      "name": "python"
    }
  },
  "cells": [
    {
      "cell_type": "markdown",
      "metadata": {
        "id": "view-in-github",
        "colab_type": "text"
      },
      "source": [
        "<a href=\"https://colab.research.google.com/github/08Arno30/COS711-A2/blob/main/src/u21457451_COS711_A2.ipynb\" target=\"_parent\"><img src=\"https://colab.research.google.com/assets/colab-badge.svg\" alt=\"Open In Colab\"/></a>"
      ]
    },
    {
      "cell_type": "markdown",
      "source": [
        "# COS711-A2\n",
        "\n",
        "## Introduction\n",
        "\n",
        "This project involves developing a neural network (NN) to classify almonds into three different types based on numeric features extracted from their images. The dataset contains a variety of almond samples, with the purpose of accurately categorising them using machine learning techniques. To accomplish this, the following steps are necessary:\n",
        "\n",
        "1. **Data Preprocessing**: Clean and prepare the dataset for optimal results during training.\n",
        "2. **Hyperparameter Optimisation**: Fine-tune the neural network's hyperparameters to improve classification accuracy.\n",
        "3. **A Comparative Study of Gradient-Based Algorithms**: Evaluate the performance of several gradient-based optimisation strategies to determine the most effective strategy for training the NN.\n",
        "4. **Hybrid Training Algorithm**: Create a new algorithm that uses gradient information from other optimisation approaches to increase convergence and performance.\n",
        "\n",
        "The project's goal with these steps is to develop a strong classification model while also investigating advanced training approaches."
      ],
      "metadata": {
        "id": "rY8f4TTbzNiB"
      }
    },
    {
      "cell_type": "markdown",
      "source": [
        "# Setup\n",
        "\n",
        "1. Create a folder on Google Drive\n",
        "2. Mount your drive using the code below.\n",
        "3. Change `working_directory` to contain the path for the folder created in step 1."
      ],
      "metadata": {
        "id": "XkvldV8r0lPs"
      }
    },
    {
      "cell_type": "code",
      "source": [
        "from google.colab import drive\n",
        "drive.mount('/content/drive')"
      ],
      "metadata": {
        "colab": {
          "base_uri": "https://localhost:8080/"
        },
        "id": "5I74lxHG0rBp",
        "outputId": "a9996cba-afeb-45ea-ebb5-57c9eb498910"
      },
      "execution_count": 1,
      "outputs": [
        {
          "output_type": "stream",
          "name": "stdout",
          "text": [
            "Drive already mounted at /content/drive; to attempt to forcibly remount, call drive.mount(\"/content/drive\", force_remount=True).\n"
          ]
        }
      ]
    },
    {
      "cell_type": "code",
      "source": [
        "# Change working directory\n",
        "working_directory = \"/content/drive/MyDrive/Honours/Semester\\ 2/COS711/Assignments/COS711-A2\"\n",
        "%cd $working_directory"
      ],
      "metadata": {
        "colab": {
          "base_uri": "https://localhost:8080/"
        },
        "id": "NXcZb67X1IZu",
        "outputId": "b311b17c-faca-4fa0-b809-9a72ce21313c"
      },
      "execution_count": 2,
      "outputs": [
        {
          "output_type": "stream",
          "name": "stdout",
          "text": [
            "/content/drive/MyDrive/Honours/Semester 2/COS711/Assignments/COS711-A2\n"
          ]
        }
      ]
    },
    {
      "cell_type": "markdown",
      "source": [
        "# Installments\n",
        "Install necessary packages."
      ],
      "metadata": {
        "id": "wOcYhNyW12SG"
      }
    },
    {
      "cell_type": "markdown",
      "source": [
        "# Imports\n",
        "Import necessary packages."
      ],
      "metadata": {
        "id": "P2ASY7UV1_EU"
      }
    },
    {
      "cell_type": "code",
      "source": [
        "import numpy as np\n",
        "import pandas as pd\n",
        "import matplotlib.pyplot as plt\n",
        "import seaborn as sns\n",
        "import time\n",
        "import sys\n",
        "from sklearn.model_selection import train_test_split\n",
        "from sklearn.preprocessing import RobustScaler, OneHotEncoder\n",
        "from sklearn.metrics import accuracy_score, confusion_matrix, classification_report\n",
        "from sklearn.utils import shuffle\n",
        "from sklearn.model_selection import train_test_split"
      ],
      "metadata": {
        "id": "2fxlzfQfEj7Q"
      },
      "execution_count": 3,
      "outputs": []
    },
    {
      "cell_type": "markdown",
      "source": [
        "# Data Pre-processing"
      ],
      "metadata": {
        "id": "KjpNKZ982McJ"
      }
    },
    {
      "cell_type": "code",
      "source": [
        "# Load the data\n",
        "data = pd.read_csv(\"./data/Almond.csv\")\n",
        "df = pd.DataFrame(data)"
      ],
      "metadata": {
        "id": "lFhPHN5t2adr"
      },
      "execution_count": 4,
      "outputs": []
    },
    {
      "cell_type": "code",
      "source": [
        "df.head()"
      ],
      "metadata": {
        "colab": {
          "base_uri": "https://localhost:8080/",
          "height": 206
        },
        "id": "wlBN79X62a-Z",
        "outputId": "aa0e8a56-40ec-4770-f7de-d41ce7137686"
      },
      "execution_count": 5,
      "outputs": [
        {
          "output_type": "execute_result",
          "data": {
            "text/plain": [
              "   Unnamed: 0  Length (major axis)  Width (minor axis)  Thickness (depth)  \\\n",
              "0           0                  NaN          227.940628         127.759132   \n",
              "1           1                  NaN          234.188126         128.199509   \n",
              "2           2                  NaN          229.418610         125.796547   \n",
              "3           3                  NaN          232.763153         125.918808   \n",
              "4           4                  NaN          230.150742         107.253448   \n",
              "\n",
              "      Area   Perimeter  Roundness  Solidity  Compactness  Aspect Ratio  \\\n",
              "0  22619.0  643.813269        NaN  0.973384     1.458265           NaN   \n",
              "1  23038.0  680.984841        NaN  0.957304     1.601844           NaN   \n",
              "2  22386.5  646.943212        NaN  0.967270     1.487772           NaN   \n",
              "3  22578.5  661.227483        NaN  0.965512     1.540979           NaN   \n",
              "4  19068.0  624.842706        NaN  0.951450     1.629395           NaN   \n",
              "\n",
              "   Eccentricity    Extent  Convex hull(convex area)   Type  \n",
              "0           NaN  0.681193                   23237.5  MAMRA  \n",
              "1           NaN  0.656353                   24065.5  MAMRA  \n",
              "2           NaN  0.683620                   23144.0  MAMRA  \n",
              "3           NaN  0.685360                   23385.0  MAMRA  \n",
              "4           NaN  0.714800                   20041.0  MAMRA  "
            ],
            "text/html": [
              "\n",
              "  <div id=\"df-0a89d030-4264-4cd7-8875-0e63600b3b9b\" class=\"colab-df-container\">\n",
              "    <div>\n",
              "<style scoped>\n",
              "    .dataframe tbody tr th:only-of-type {\n",
              "        vertical-align: middle;\n",
              "    }\n",
              "\n",
              "    .dataframe tbody tr th {\n",
              "        vertical-align: top;\n",
              "    }\n",
              "\n",
              "    .dataframe thead th {\n",
              "        text-align: right;\n",
              "    }\n",
              "</style>\n",
              "<table border=\"1\" class=\"dataframe\">\n",
              "  <thead>\n",
              "    <tr style=\"text-align: right;\">\n",
              "      <th></th>\n",
              "      <th>Unnamed: 0</th>\n",
              "      <th>Length (major axis)</th>\n",
              "      <th>Width (minor axis)</th>\n",
              "      <th>Thickness (depth)</th>\n",
              "      <th>Area</th>\n",
              "      <th>Perimeter</th>\n",
              "      <th>Roundness</th>\n",
              "      <th>Solidity</th>\n",
              "      <th>Compactness</th>\n",
              "      <th>Aspect Ratio</th>\n",
              "      <th>Eccentricity</th>\n",
              "      <th>Extent</th>\n",
              "      <th>Convex hull(convex area)</th>\n",
              "      <th>Type</th>\n",
              "    </tr>\n",
              "  </thead>\n",
              "  <tbody>\n",
              "    <tr>\n",
              "      <th>0</th>\n",
              "      <td>0</td>\n",
              "      <td>NaN</td>\n",
              "      <td>227.940628</td>\n",
              "      <td>127.759132</td>\n",
              "      <td>22619.0</td>\n",
              "      <td>643.813269</td>\n",
              "      <td>NaN</td>\n",
              "      <td>0.973384</td>\n",
              "      <td>1.458265</td>\n",
              "      <td>NaN</td>\n",
              "      <td>NaN</td>\n",
              "      <td>0.681193</td>\n",
              "      <td>23237.5</td>\n",
              "      <td>MAMRA</td>\n",
              "    </tr>\n",
              "    <tr>\n",
              "      <th>1</th>\n",
              "      <td>1</td>\n",
              "      <td>NaN</td>\n",
              "      <td>234.188126</td>\n",
              "      <td>128.199509</td>\n",
              "      <td>23038.0</td>\n",
              "      <td>680.984841</td>\n",
              "      <td>NaN</td>\n",
              "      <td>0.957304</td>\n",
              "      <td>1.601844</td>\n",
              "      <td>NaN</td>\n",
              "      <td>NaN</td>\n",
              "      <td>0.656353</td>\n",
              "      <td>24065.5</td>\n",
              "      <td>MAMRA</td>\n",
              "    </tr>\n",
              "    <tr>\n",
              "      <th>2</th>\n",
              "      <td>2</td>\n",
              "      <td>NaN</td>\n",
              "      <td>229.418610</td>\n",
              "      <td>125.796547</td>\n",
              "      <td>22386.5</td>\n",
              "      <td>646.943212</td>\n",
              "      <td>NaN</td>\n",
              "      <td>0.967270</td>\n",
              "      <td>1.487772</td>\n",
              "      <td>NaN</td>\n",
              "      <td>NaN</td>\n",
              "      <td>0.683620</td>\n",
              "      <td>23144.0</td>\n",
              "      <td>MAMRA</td>\n",
              "    </tr>\n",
              "    <tr>\n",
              "      <th>3</th>\n",
              "      <td>3</td>\n",
              "      <td>NaN</td>\n",
              "      <td>232.763153</td>\n",
              "      <td>125.918808</td>\n",
              "      <td>22578.5</td>\n",
              "      <td>661.227483</td>\n",
              "      <td>NaN</td>\n",
              "      <td>0.965512</td>\n",
              "      <td>1.540979</td>\n",
              "      <td>NaN</td>\n",
              "      <td>NaN</td>\n",
              "      <td>0.685360</td>\n",
              "      <td>23385.0</td>\n",
              "      <td>MAMRA</td>\n",
              "    </tr>\n",
              "    <tr>\n",
              "      <th>4</th>\n",
              "      <td>4</td>\n",
              "      <td>NaN</td>\n",
              "      <td>230.150742</td>\n",
              "      <td>107.253448</td>\n",
              "      <td>19068.0</td>\n",
              "      <td>624.842706</td>\n",
              "      <td>NaN</td>\n",
              "      <td>0.951450</td>\n",
              "      <td>1.629395</td>\n",
              "      <td>NaN</td>\n",
              "      <td>NaN</td>\n",
              "      <td>0.714800</td>\n",
              "      <td>20041.0</td>\n",
              "      <td>MAMRA</td>\n",
              "    </tr>\n",
              "  </tbody>\n",
              "</table>\n",
              "</div>\n",
              "    <div class=\"colab-df-buttons\">\n",
              "\n",
              "  <div class=\"colab-df-container\">\n",
              "    <button class=\"colab-df-convert\" onclick=\"convertToInteractive('df-0a89d030-4264-4cd7-8875-0e63600b3b9b')\"\n",
              "            title=\"Convert this dataframe to an interactive table.\"\n",
              "            style=\"display:none;\">\n",
              "\n",
              "  <svg xmlns=\"http://www.w3.org/2000/svg\" height=\"24px\" viewBox=\"0 -960 960 960\">\n",
              "    <path d=\"M120-120v-720h720v720H120Zm60-500h600v-160H180v160Zm220 220h160v-160H400v160Zm0 220h160v-160H400v160ZM180-400h160v-160H180v160Zm440 0h160v-160H620v160ZM180-180h160v-160H180v160Zm440 0h160v-160H620v160Z\"/>\n",
              "  </svg>\n",
              "    </button>\n",
              "\n",
              "  <style>\n",
              "    .colab-df-container {\n",
              "      display:flex;\n",
              "      gap: 12px;\n",
              "    }\n",
              "\n",
              "    .colab-df-convert {\n",
              "      background-color: #E8F0FE;\n",
              "      border: none;\n",
              "      border-radius: 50%;\n",
              "      cursor: pointer;\n",
              "      display: none;\n",
              "      fill: #1967D2;\n",
              "      height: 32px;\n",
              "      padding: 0 0 0 0;\n",
              "      width: 32px;\n",
              "    }\n",
              "\n",
              "    .colab-df-convert:hover {\n",
              "      background-color: #E2EBFA;\n",
              "      box-shadow: 0px 1px 2px rgba(60, 64, 67, 0.3), 0px 1px 3px 1px rgba(60, 64, 67, 0.15);\n",
              "      fill: #174EA6;\n",
              "    }\n",
              "\n",
              "    .colab-df-buttons div {\n",
              "      margin-bottom: 4px;\n",
              "    }\n",
              "\n",
              "    [theme=dark] .colab-df-convert {\n",
              "      background-color: #3B4455;\n",
              "      fill: #D2E3FC;\n",
              "    }\n",
              "\n",
              "    [theme=dark] .colab-df-convert:hover {\n",
              "      background-color: #434B5C;\n",
              "      box-shadow: 0px 1px 3px 1px rgba(0, 0, 0, 0.15);\n",
              "      filter: drop-shadow(0px 1px 2px rgba(0, 0, 0, 0.3));\n",
              "      fill: #FFFFFF;\n",
              "    }\n",
              "  </style>\n",
              "\n",
              "    <script>\n",
              "      const buttonEl =\n",
              "        document.querySelector('#df-0a89d030-4264-4cd7-8875-0e63600b3b9b button.colab-df-convert');\n",
              "      buttonEl.style.display =\n",
              "        google.colab.kernel.accessAllowed ? 'block' : 'none';\n",
              "\n",
              "      async function convertToInteractive(key) {\n",
              "        const element = document.querySelector('#df-0a89d030-4264-4cd7-8875-0e63600b3b9b');\n",
              "        const dataTable =\n",
              "          await google.colab.kernel.invokeFunction('convertToInteractive',\n",
              "                                                    [key], {});\n",
              "        if (!dataTable) return;\n",
              "\n",
              "        const docLinkHtml = 'Like what you see? Visit the ' +\n",
              "          '<a target=\"_blank\" href=https://colab.research.google.com/notebooks/data_table.ipynb>data table notebook</a>'\n",
              "          + ' to learn more about interactive tables.';\n",
              "        element.innerHTML = '';\n",
              "        dataTable['output_type'] = 'display_data';\n",
              "        await google.colab.output.renderOutput(dataTable, element);\n",
              "        const docLink = document.createElement('div');\n",
              "        docLink.innerHTML = docLinkHtml;\n",
              "        element.appendChild(docLink);\n",
              "      }\n",
              "    </script>\n",
              "  </div>\n",
              "\n",
              "\n",
              "<div id=\"df-ef87a2ad-51fc-4191-b0bf-afa0b40ba903\">\n",
              "  <button class=\"colab-df-quickchart\" onclick=\"quickchart('df-ef87a2ad-51fc-4191-b0bf-afa0b40ba903')\"\n",
              "            title=\"Suggest charts\"\n",
              "            style=\"display:none;\">\n",
              "\n",
              "<svg xmlns=\"http://www.w3.org/2000/svg\" height=\"24px\"viewBox=\"0 0 24 24\"\n",
              "     width=\"24px\">\n",
              "    <g>\n",
              "        <path d=\"M19 3H5c-1.1 0-2 .9-2 2v14c0 1.1.9 2 2 2h14c1.1 0 2-.9 2-2V5c0-1.1-.9-2-2-2zM9 17H7v-7h2v7zm4 0h-2V7h2v10zm4 0h-2v-4h2v4z\"/>\n",
              "    </g>\n",
              "</svg>\n",
              "  </button>\n",
              "\n",
              "<style>\n",
              "  .colab-df-quickchart {\n",
              "      --bg-color: #E8F0FE;\n",
              "      --fill-color: #1967D2;\n",
              "      --hover-bg-color: #E2EBFA;\n",
              "      --hover-fill-color: #174EA6;\n",
              "      --disabled-fill-color: #AAA;\n",
              "      --disabled-bg-color: #DDD;\n",
              "  }\n",
              "\n",
              "  [theme=dark] .colab-df-quickchart {\n",
              "      --bg-color: #3B4455;\n",
              "      --fill-color: #D2E3FC;\n",
              "      --hover-bg-color: #434B5C;\n",
              "      --hover-fill-color: #FFFFFF;\n",
              "      --disabled-bg-color: #3B4455;\n",
              "      --disabled-fill-color: #666;\n",
              "  }\n",
              "\n",
              "  .colab-df-quickchart {\n",
              "    background-color: var(--bg-color);\n",
              "    border: none;\n",
              "    border-radius: 50%;\n",
              "    cursor: pointer;\n",
              "    display: none;\n",
              "    fill: var(--fill-color);\n",
              "    height: 32px;\n",
              "    padding: 0;\n",
              "    width: 32px;\n",
              "  }\n",
              "\n",
              "  .colab-df-quickchart:hover {\n",
              "    background-color: var(--hover-bg-color);\n",
              "    box-shadow: 0 1px 2px rgba(60, 64, 67, 0.3), 0 1px 3px 1px rgba(60, 64, 67, 0.15);\n",
              "    fill: var(--button-hover-fill-color);\n",
              "  }\n",
              "\n",
              "  .colab-df-quickchart-complete:disabled,\n",
              "  .colab-df-quickchart-complete:disabled:hover {\n",
              "    background-color: var(--disabled-bg-color);\n",
              "    fill: var(--disabled-fill-color);\n",
              "    box-shadow: none;\n",
              "  }\n",
              "\n",
              "  .colab-df-spinner {\n",
              "    border: 2px solid var(--fill-color);\n",
              "    border-color: transparent;\n",
              "    border-bottom-color: var(--fill-color);\n",
              "    animation:\n",
              "      spin 1s steps(1) infinite;\n",
              "  }\n",
              "\n",
              "  @keyframes spin {\n",
              "    0% {\n",
              "      border-color: transparent;\n",
              "      border-bottom-color: var(--fill-color);\n",
              "      border-left-color: var(--fill-color);\n",
              "    }\n",
              "    20% {\n",
              "      border-color: transparent;\n",
              "      border-left-color: var(--fill-color);\n",
              "      border-top-color: var(--fill-color);\n",
              "    }\n",
              "    30% {\n",
              "      border-color: transparent;\n",
              "      border-left-color: var(--fill-color);\n",
              "      border-top-color: var(--fill-color);\n",
              "      border-right-color: var(--fill-color);\n",
              "    }\n",
              "    40% {\n",
              "      border-color: transparent;\n",
              "      border-right-color: var(--fill-color);\n",
              "      border-top-color: var(--fill-color);\n",
              "    }\n",
              "    60% {\n",
              "      border-color: transparent;\n",
              "      border-right-color: var(--fill-color);\n",
              "    }\n",
              "    80% {\n",
              "      border-color: transparent;\n",
              "      border-right-color: var(--fill-color);\n",
              "      border-bottom-color: var(--fill-color);\n",
              "    }\n",
              "    90% {\n",
              "      border-color: transparent;\n",
              "      border-bottom-color: var(--fill-color);\n",
              "    }\n",
              "  }\n",
              "</style>\n",
              "\n",
              "  <script>\n",
              "    async function quickchart(key) {\n",
              "      const quickchartButtonEl =\n",
              "        document.querySelector('#' + key + ' button');\n",
              "      quickchartButtonEl.disabled = true;  // To prevent multiple clicks.\n",
              "      quickchartButtonEl.classList.add('colab-df-spinner');\n",
              "      try {\n",
              "        const charts = await google.colab.kernel.invokeFunction(\n",
              "            'suggestCharts', [key], {});\n",
              "      } catch (error) {\n",
              "        console.error('Error during call to suggestCharts:', error);\n",
              "      }\n",
              "      quickchartButtonEl.classList.remove('colab-df-spinner');\n",
              "      quickchartButtonEl.classList.add('colab-df-quickchart-complete');\n",
              "    }\n",
              "    (() => {\n",
              "      let quickchartButtonEl =\n",
              "        document.querySelector('#df-ef87a2ad-51fc-4191-b0bf-afa0b40ba903 button');\n",
              "      quickchartButtonEl.style.display =\n",
              "        google.colab.kernel.accessAllowed ? 'block' : 'none';\n",
              "    })();\n",
              "  </script>\n",
              "</div>\n",
              "\n",
              "    </div>\n",
              "  </div>\n"
            ],
            "application/vnd.google.colaboratory.intrinsic+json": {
              "type": "dataframe",
              "variable_name": "df",
              "summary": "{\n  \"name\": \"df\",\n  \"rows\": 2803,\n  \"fields\": [\n    {\n      \"column\": \"Unnamed: 0\",\n      \"properties\": {\n        \"dtype\": \"number\",\n        \"std\": 809,\n        \"min\": 0,\n        \"max\": 2802,\n        \"num_unique_values\": 2803,\n        \"samples\": [\n          1091,\n          1041,\n          1521\n        ],\n        \"semantic_type\": \"\",\n        \"description\": \"\"\n      }\n    },\n    {\n      \"column\": \"Length (major axis)\",\n      \"properties\": {\n        \"dtype\": \"number\",\n        \"std\": 62.71943280886033,\n        \"min\": 151.33526611328125,\n        \"max\": 515.3524780273438,\n        \"num_unique_values\": 1944,\n        \"samples\": [\n          259.7401733398437,\n          289.66473388671875,\n          241.1804656982422\n        ],\n        \"semantic_type\": \"\",\n        \"description\": \"\"\n      }\n    },\n    {\n      \"column\": \"Width (minor axis)\",\n      \"properties\": {\n        \"dtype\": \"number\",\n        \"std\": 29.916529409097045,\n        \"min\": 88.05052947998047,\n        \"max\": 258.5697937011719,\n        \"num_unique_values\": 1859,\n        \"samples\": [\n          126.38116455078124,\n          194.5828399658203,\n          129.33033752441406\n        ],\n        \"semantic_type\": \"\",\n        \"description\": \"\"\n      }\n    },\n    {\n      \"column\": \"Thickness (depth)\",\n      \"properties\": {\n        \"dtype\": \"number\",\n        \"std\": 18.940596841229056,\n        \"min\": 59.49427795410156,\n        \"max\": 181.8451995849609,\n        \"num_unique_values\": 1797,\n        \"samples\": [\n          133.67669677734375,\n          96.85045623779295,\n          113.5409927368164\n        ],\n        \"semantic_type\": \"\",\n        \"description\": \"\"\n      }\n    },\n    {\n      \"column\": \"Area\",\n      \"properties\": {\n        \"dtype\": \"number\",\n        \"std\": 13782.561343693635,\n        \"min\": 6037.0,\n        \"max\": 89282.0,\n        \"num_unique_values\": 2750,\n        \"samples\": [\n          18261.5,\n          25489.5,\n          21799.0\n        ],\n        \"semantic_type\": \"\",\n        \"description\": \"\"\n      }\n    },\n    {\n      \"column\": \"Perimeter\",\n      \"properties\": {\n        \"dtype\": \"number\",\n        \"std\": 230.63207596552226,\n        \"min\": 311.5634888410568,\n        \"max\": 1864.947386622429,\n        \"num_unique_values\": 2793,\n        \"samples\": [\n          662.0559096336365,\n          704.8010765314102,\n          608.7178163528442\n        ],\n        \"semantic_type\": \"\",\n        \"description\": \"\"\n      }\n    },\n    {\n      \"column\": \"Roundness\",\n      \"properties\": {\n        \"dtype\": \"number\",\n        \"std\": 0.1186730648203026,\n        \"min\": 0.1737484552002879,\n        \"max\": 0.6972926432457265,\n        \"num_unique_values\": 1944,\n        \"samples\": [\n          0.637167477592493,\n          0.3683572007436365,\n          0.4278094999757473\n        ],\n        \"semantic_type\": \"\",\n        \"description\": \"\"\n      }\n    },\n    {\n      \"column\": \"Solidity\",\n      \"properties\": {\n        \"dtype\": \"number\",\n        \"std\": 0.03959572421297852,\n        \"min\": 0.7187724633674316,\n        \"max\": 0.9928891229918356,\n        \"num_unique_values\": 2800,\n        \"samples\": [\n          0.9730123087159016,\n          0.984811865571018,\n          0.94926860079528\n        ],\n        \"semantic_type\": \"\",\n        \"description\": \"\"\n      }\n    },\n    {\n      \"column\": \"Compactness\",\n      \"properties\": {\n        \"dtype\": \"number\",\n        \"std\": 0.7940584300708998,\n        \"min\": 1.1644687273008936,\n        \"max\": 9.660057065957709,\n        \"num_unique_values\": 2800,\n        \"samples\": [\n          1.285398272503667,\n          1.2786547371520387,\n          1.862967596305829\n        ],\n        \"semantic_type\": \"\",\n        \"description\": \"\"\n      }\n    },\n    {\n      \"column\": \"Aspect Ratio\",\n      \"properties\": {\n        \"dtype\": \"number\",\n        \"std\": 0.20661624161689365,\n        \"min\": 1.4000816730604215,\n        \"max\": 2.731251380060298,\n        \"num_unique_values\": 1003,\n        \"samples\": [\n          1.7565786155772565,\n          1.7098343532944225,\n          1.7754427702178504\n        ],\n        \"semantic_type\": \"\",\n        \"description\": \"\"\n      }\n    },\n    {\n      \"column\": \"Eccentricity\",\n      \"properties\": {\n        \"dtype\": \"number\",\n        \"std\": 0.041311686873858576,\n        \"min\": 0.6998967364035199,\n        \"max\": 0.9305627139191484,\n        \"num_unique_values\": 1003,\n        \"samples\": [\n          0.8221378273345807,\n          0.8111400411003321,\n          0.826293499456194\n        ],\n        \"semantic_type\": \"\",\n        \"description\": \"\"\n      }\n    },\n    {\n      \"column\": \"Extent\",\n      \"properties\": {\n        \"dtype\": \"number\",\n        \"std\": 0.047473869985034875,\n        \"min\": 0.4545377867746288,\n        \"max\": 0.8458125080097398,\n        \"num_unique_values\": 2800,\n        \"samples\": [\n          0.713297158883063,\n          0.7045868219876229,\n          0.7284313725490196\n        ],\n        \"semantic_type\": \"\",\n        \"description\": \"\"\n      }\n    },\n    {\n      \"column\": \"Convex hull(convex area)\",\n      \"properties\": {\n        \"dtype\": \"number\",\n        \"std\": 14237.347610258017,\n        \"min\": 6355.0,\n        \"max\": 90642.5,\n        \"num_unique_values\": 2737,\n        \"samples\": [\n          22800.5,\n          26218.5,\n          18649.5\n        ],\n        \"semantic_type\": \"\",\n        \"description\": \"\"\n      }\n    },\n    {\n      \"column\": \"Type\",\n      \"properties\": {\n        \"dtype\": \"category\",\n        \"num_unique_values\": 3,\n        \"samples\": [\n          \"MAMRA\",\n          \"SANORA\",\n          \"REGULAR\"\n        ],\n        \"semantic_type\": \"\",\n        \"description\": \"\"\n      }\n    }\n  ]\n}"
            }
          },
          "metadata": {},
          "execution_count": 5
        }
      ]
    },
    {
      "cell_type": "code",
      "source": [
        "df.describe()"
      ],
      "metadata": {
        "colab": {
          "base_uri": "https://localhost:8080/",
          "height": 300
        },
        "id": "3I96Zdli2528",
        "outputId": "16213475-26bd-488d-c3bb-35841f97eb3b"
      },
      "execution_count": 6,
      "outputs": [
        {
          "output_type": "execute_result",
          "data": {
            "text/plain": [
              "        Unnamed: 0  Length (major axis)  Width (minor axis)  \\\n",
              "count  2803.000000          1946.000000         1861.000000   \n",
              "mean   1401.000000           290.609274          171.025915   \n",
              "std     809.300727            62.719433           29.916529   \n",
              "min       0.000000           151.335266           88.050529   \n",
              "25%     700.500000           245.966293          149.453659   \n",
              "50%    1401.000000           279.879883          170.168365   \n",
              "75%    2101.500000           330.508575          190.640427   \n",
              "max    2802.000000           515.352478          258.569794   \n",
              "\n",
              "       Thickness (depth)          Area    Perimeter    Roundness     Solidity  \\\n",
              "count        1799.000000   2803.000000  2803.000000  1946.000000  2803.000000   \n",
              "mean          109.705378  26511.117374   743.863770     0.470466     0.955828   \n",
              "std            18.940597  13782.561344   230.632076     0.118673     0.039596   \n",
              "min            59.494278   6037.000000   311.563489     0.173748     0.718772   \n",
              "25%            97.091682  16211.500000   571.730009     0.384810     0.944579   \n",
              "50%           110.280136  23440.500000   707.487369     0.472718     0.970422   \n",
              "75%           121.392773  33451.000000   878.896530     0.577553     0.981484   \n",
              "max           181.845200  89282.000000  1864.947387     0.697293     0.992889   \n",
              "\n",
              "       Compactness  Aspect Ratio  Eccentricity       Extent  \\\n",
              "count  2803.000000   1004.000000   1004.000000  2803.000000   \n",
              "mean      1.825233      1.753216      0.813114     0.724587   \n",
              "std       0.794058      0.206616      0.041312     0.047474   \n",
              "min       1.164469      1.400082      0.699897     0.454538   \n",
              "25%       1.357398      1.612490      0.784476     0.701673   \n",
              "50%       1.576412      1.705716      0.810120     0.733720   \n",
              "75%       1.965953      1.833339      0.838141     0.757551   \n",
              "max       9.660057      2.731251      0.930563     0.845813   \n",
              "\n",
              "       Convex hull(convex area)  \n",
              "count               2803.000000  \n",
              "mean               27696.218159  \n",
              "std                14237.347610  \n",
              "min                 6355.000000  \n",
              "25%                17088.500000  \n",
              "50%                24589.000000  \n",
              "75%                34863.250000  \n",
              "max                90642.500000  "
            ],
            "text/html": [
              "\n",
              "  <div id=\"df-66e22bfa-ef73-409d-90db-964523566919\" class=\"colab-df-container\">\n",
              "    <div>\n",
              "<style scoped>\n",
              "    .dataframe tbody tr th:only-of-type {\n",
              "        vertical-align: middle;\n",
              "    }\n",
              "\n",
              "    .dataframe tbody tr th {\n",
              "        vertical-align: top;\n",
              "    }\n",
              "\n",
              "    .dataframe thead th {\n",
              "        text-align: right;\n",
              "    }\n",
              "</style>\n",
              "<table border=\"1\" class=\"dataframe\">\n",
              "  <thead>\n",
              "    <tr style=\"text-align: right;\">\n",
              "      <th></th>\n",
              "      <th>Unnamed: 0</th>\n",
              "      <th>Length (major axis)</th>\n",
              "      <th>Width (minor axis)</th>\n",
              "      <th>Thickness (depth)</th>\n",
              "      <th>Area</th>\n",
              "      <th>Perimeter</th>\n",
              "      <th>Roundness</th>\n",
              "      <th>Solidity</th>\n",
              "      <th>Compactness</th>\n",
              "      <th>Aspect Ratio</th>\n",
              "      <th>Eccentricity</th>\n",
              "      <th>Extent</th>\n",
              "      <th>Convex hull(convex area)</th>\n",
              "    </tr>\n",
              "  </thead>\n",
              "  <tbody>\n",
              "    <tr>\n",
              "      <th>count</th>\n",
              "      <td>2803.000000</td>\n",
              "      <td>1946.000000</td>\n",
              "      <td>1861.000000</td>\n",
              "      <td>1799.000000</td>\n",
              "      <td>2803.000000</td>\n",
              "      <td>2803.000000</td>\n",
              "      <td>1946.000000</td>\n",
              "      <td>2803.000000</td>\n",
              "      <td>2803.000000</td>\n",
              "      <td>1004.000000</td>\n",
              "      <td>1004.000000</td>\n",
              "      <td>2803.000000</td>\n",
              "      <td>2803.000000</td>\n",
              "    </tr>\n",
              "    <tr>\n",
              "      <th>mean</th>\n",
              "      <td>1401.000000</td>\n",
              "      <td>290.609274</td>\n",
              "      <td>171.025915</td>\n",
              "      <td>109.705378</td>\n",
              "      <td>26511.117374</td>\n",
              "      <td>743.863770</td>\n",
              "      <td>0.470466</td>\n",
              "      <td>0.955828</td>\n",
              "      <td>1.825233</td>\n",
              "      <td>1.753216</td>\n",
              "      <td>0.813114</td>\n",
              "      <td>0.724587</td>\n",
              "      <td>27696.218159</td>\n",
              "    </tr>\n",
              "    <tr>\n",
              "      <th>std</th>\n",
              "      <td>809.300727</td>\n",
              "      <td>62.719433</td>\n",
              "      <td>29.916529</td>\n",
              "      <td>18.940597</td>\n",
              "      <td>13782.561344</td>\n",
              "      <td>230.632076</td>\n",
              "      <td>0.118673</td>\n",
              "      <td>0.039596</td>\n",
              "      <td>0.794058</td>\n",
              "      <td>0.206616</td>\n",
              "      <td>0.041312</td>\n",
              "      <td>0.047474</td>\n",
              "      <td>14237.347610</td>\n",
              "    </tr>\n",
              "    <tr>\n",
              "      <th>min</th>\n",
              "      <td>0.000000</td>\n",
              "      <td>151.335266</td>\n",
              "      <td>88.050529</td>\n",
              "      <td>59.494278</td>\n",
              "      <td>6037.000000</td>\n",
              "      <td>311.563489</td>\n",
              "      <td>0.173748</td>\n",
              "      <td>0.718772</td>\n",
              "      <td>1.164469</td>\n",
              "      <td>1.400082</td>\n",
              "      <td>0.699897</td>\n",
              "      <td>0.454538</td>\n",
              "      <td>6355.000000</td>\n",
              "    </tr>\n",
              "    <tr>\n",
              "      <th>25%</th>\n",
              "      <td>700.500000</td>\n",
              "      <td>245.966293</td>\n",
              "      <td>149.453659</td>\n",
              "      <td>97.091682</td>\n",
              "      <td>16211.500000</td>\n",
              "      <td>571.730009</td>\n",
              "      <td>0.384810</td>\n",
              "      <td>0.944579</td>\n",
              "      <td>1.357398</td>\n",
              "      <td>1.612490</td>\n",
              "      <td>0.784476</td>\n",
              "      <td>0.701673</td>\n",
              "      <td>17088.500000</td>\n",
              "    </tr>\n",
              "    <tr>\n",
              "      <th>50%</th>\n",
              "      <td>1401.000000</td>\n",
              "      <td>279.879883</td>\n",
              "      <td>170.168365</td>\n",
              "      <td>110.280136</td>\n",
              "      <td>23440.500000</td>\n",
              "      <td>707.487369</td>\n",
              "      <td>0.472718</td>\n",
              "      <td>0.970422</td>\n",
              "      <td>1.576412</td>\n",
              "      <td>1.705716</td>\n",
              "      <td>0.810120</td>\n",
              "      <td>0.733720</td>\n",
              "      <td>24589.000000</td>\n",
              "    </tr>\n",
              "    <tr>\n",
              "      <th>75%</th>\n",
              "      <td>2101.500000</td>\n",
              "      <td>330.508575</td>\n",
              "      <td>190.640427</td>\n",
              "      <td>121.392773</td>\n",
              "      <td>33451.000000</td>\n",
              "      <td>878.896530</td>\n",
              "      <td>0.577553</td>\n",
              "      <td>0.981484</td>\n",
              "      <td>1.965953</td>\n",
              "      <td>1.833339</td>\n",
              "      <td>0.838141</td>\n",
              "      <td>0.757551</td>\n",
              "      <td>34863.250000</td>\n",
              "    </tr>\n",
              "    <tr>\n",
              "      <th>max</th>\n",
              "      <td>2802.000000</td>\n",
              "      <td>515.352478</td>\n",
              "      <td>258.569794</td>\n",
              "      <td>181.845200</td>\n",
              "      <td>89282.000000</td>\n",
              "      <td>1864.947387</td>\n",
              "      <td>0.697293</td>\n",
              "      <td>0.992889</td>\n",
              "      <td>9.660057</td>\n",
              "      <td>2.731251</td>\n",
              "      <td>0.930563</td>\n",
              "      <td>0.845813</td>\n",
              "      <td>90642.500000</td>\n",
              "    </tr>\n",
              "  </tbody>\n",
              "</table>\n",
              "</div>\n",
              "    <div class=\"colab-df-buttons\">\n",
              "\n",
              "  <div class=\"colab-df-container\">\n",
              "    <button class=\"colab-df-convert\" onclick=\"convertToInteractive('df-66e22bfa-ef73-409d-90db-964523566919')\"\n",
              "            title=\"Convert this dataframe to an interactive table.\"\n",
              "            style=\"display:none;\">\n",
              "\n",
              "  <svg xmlns=\"http://www.w3.org/2000/svg\" height=\"24px\" viewBox=\"0 -960 960 960\">\n",
              "    <path d=\"M120-120v-720h720v720H120Zm60-500h600v-160H180v160Zm220 220h160v-160H400v160Zm0 220h160v-160H400v160ZM180-400h160v-160H180v160Zm440 0h160v-160H620v160ZM180-180h160v-160H180v160Zm440 0h160v-160H620v160Z\"/>\n",
              "  </svg>\n",
              "    </button>\n",
              "\n",
              "  <style>\n",
              "    .colab-df-container {\n",
              "      display:flex;\n",
              "      gap: 12px;\n",
              "    }\n",
              "\n",
              "    .colab-df-convert {\n",
              "      background-color: #E8F0FE;\n",
              "      border: none;\n",
              "      border-radius: 50%;\n",
              "      cursor: pointer;\n",
              "      display: none;\n",
              "      fill: #1967D2;\n",
              "      height: 32px;\n",
              "      padding: 0 0 0 0;\n",
              "      width: 32px;\n",
              "    }\n",
              "\n",
              "    .colab-df-convert:hover {\n",
              "      background-color: #E2EBFA;\n",
              "      box-shadow: 0px 1px 2px rgba(60, 64, 67, 0.3), 0px 1px 3px 1px rgba(60, 64, 67, 0.15);\n",
              "      fill: #174EA6;\n",
              "    }\n",
              "\n",
              "    .colab-df-buttons div {\n",
              "      margin-bottom: 4px;\n",
              "    }\n",
              "\n",
              "    [theme=dark] .colab-df-convert {\n",
              "      background-color: #3B4455;\n",
              "      fill: #D2E3FC;\n",
              "    }\n",
              "\n",
              "    [theme=dark] .colab-df-convert:hover {\n",
              "      background-color: #434B5C;\n",
              "      box-shadow: 0px 1px 3px 1px rgba(0, 0, 0, 0.15);\n",
              "      filter: drop-shadow(0px 1px 2px rgba(0, 0, 0, 0.3));\n",
              "      fill: #FFFFFF;\n",
              "    }\n",
              "  </style>\n",
              "\n",
              "    <script>\n",
              "      const buttonEl =\n",
              "        document.querySelector('#df-66e22bfa-ef73-409d-90db-964523566919 button.colab-df-convert');\n",
              "      buttonEl.style.display =\n",
              "        google.colab.kernel.accessAllowed ? 'block' : 'none';\n",
              "\n",
              "      async function convertToInteractive(key) {\n",
              "        const element = document.querySelector('#df-66e22bfa-ef73-409d-90db-964523566919');\n",
              "        const dataTable =\n",
              "          await google.colab.kernel.invokeFunction('convertToInteractive',\n",
              "                                                    [key], {});\n",
              "        if (!dataTable) return;\n",
              "\n",
              "        const docLinkHtml = 'Like what you see? Visit the ' +\n",
              "          '<a target=\"_blank\" href=https://colab.research.google.com/notebooks/data_table.ipynb>data table notebook</a>'\n",
              "          + ' to learn more about interactive tables.';\n",
              "        element.innerHTML = '';\n",
              "        dataTable['output_type'] = 'display_data';\n",
              "        await google.colab.output.renderOutput(dataTable, element);\n",
              "        const docLink = document.createElement('div');\n",
              "        docLink.innerHTML = docLinkHtml;\n",
              "        element.appendChild(docLink);\n",
              "      }\n",
              "    </script>\n",
              "  </div>\n",
              "\n",
              "\n",
              "<div id=\"df-047679e8-8e94-463a-b1da-8197b5bcc584\">\n",
              "  <button class=\"colab-df-quickchart\" onclick=\"quickchart('df-047679e8-8e94-463a-b1da-8197b5bcc584')\"\n",
              "            title=\"Suggest charts\"\n",
              "            style=\"display:none;\">\n",
              "\n",
              "<svg xmlns=\"http://www.w3.org/2000/svg\" height=\"24px\"viewBox=\"0 0 24 24\"\n",
              "     width=\"24px\">\n",
              "    <g>\n",
              "        <path d=\"M19 3H5c-1.1 0-2 .9-2 2v14c0 1.1.9 2 2 2h14c1.1 0 2-.9 2-2V5c0-1.1-.9-2-2-2zM9 17H7v-7h2v7zm4 0h-2V7h2v10zm4 0h-2v-4h2v4z\"/>\n",
              "    </g>\n",
              "</svg>\n",
              "  </button>\n",
              "\n",
              "<style>\n",
              "  .colab-df-quickchart {\n",
              "      --bg-color: #E8F0FE;\n",
              "      --fill-color: #1967D2;\n",
              "      --hover-bg-color: #E2EBFA;\n",
              "      --hover-fill-color: #174EA6;\n",
              "      --disabled-fill-color: #AAA;\n",
              "      --disabled-bg-color: #DDD;\n",
              "  }\n",
              "\n",
              "  [theme=dark] .colab-df-quickchart {\n",
              "      --bg-color: #3B4455;\n",
              "      --fill-color: #D2E3FC;\n",
              "      --hover-bg-color: #434B5C;\n",
              "      --hover-fill-color: #FFFFFF;\n",
              "      --disabled-bg-color: #3B4455;\n",
              "      --disabled-fill-color: #666;\n",
              "  }\n",
              "\n",
              "  .colab-df-quickchart {\n",
              "    background-color: var(--bg-color);\n",
              "    border: none;\n",
              "    border-radius: 50%;\n",
              "    cursor: pointer;\n",
              "    display: none;\n",
              "    fill: var(--fill-color);\n",
              "    height: 32px;\n",
              "    padding: 0;\n",
              "    width: 32px;\n",
              "  }\n",
              "\n",
              "  .colab-df-quickchart:hover {\n",
              "    background-color: var(--hover-bg-color);\n",
              "    box-shadow: 0 1px 2px rgba(60, 64, 67, 0.3), 0 1px 3px 1px rgba(60, 64, 67, 0.15);\n",
              "    fill: var(--button-hover-fill-color);\n",
              "  }\n",
              "\n",
              "  .colab-df-quickchart-complete:disabled,\n",
              "  .colab-df-quickchart-complete:disabled:hover {\n",
              "    background-color: var(--disabled-bg-color);\n",
              "    fill: var(--disabled-fill-color);\n",
              "    box-shadow: none;\n",
              "  }\n",
              "\n",
              "  .colab-df-spinner {\n",
              "    border: 2px solid var(--fill-color);\n",
              "    border-color: transparent;\n",
              "    border-bottom-color: var(--fill-color);\n",
              "    animation:\n",
              "      spin 1s steps(1) infinite;\n",
              "  }\n",
              "\n",
              "  @keyframes spin {\n",
              "    0% {\n",
              "      border-color: transparent;\n",
              "      border-bottom-color: var(--fill-color);\n",
              "      border-left-color: var(--fill-color);\n",
              "    }\n",
              "    20% {\n",
              "      border-color: transparent;\n",
              "      border-left-color: var(--fill-color);\n",
              "      border-top-color: var(--fill-color);\n",
              "    }\n",
              "    30% {\n",
              "      border-color: transparent;\n",
              "      border-left-color: var(--fill-color);\n",
              "      border-top-color: var(--fill-color);\n",
              "      border-right-color: var(--fill-color);\n",
              "    }\n",
              "    40% {\n",
              "      border-color: transparent;\n",
              "      border-right-color: var(--fill-color);\n",
              "      border-top-color: var(--fill-color);\n",
              "    }\n",
              "    60% {\n",
              "      border-color: transparent;\n",
              "      border-right-color: var(--fill-color);\n",
              "    }\n",
              "    80% {\n",
              "      border-color: transparent;\n",
              "      border-right-color: var(--fill-color);\n",
              "      border-bottom-color: var(--fill-color);\n",
              "    }\n",
              "    90% {\n",
              "      border-color: transparent;\n",
              "      border-bottom-color: var(--fill-color);\n",
              "    }\n",
              "  }\n",
              "</style>\n",
              "\n",
              "  <script>\n",
              "    async function quickchart(key) {\n",
              "      const quickchartButtonEl =\n",
              "        document.querySelector('#' + key + ' button');\n",
              "      quickchartButtonEl.disabled = true;  // To prevent multiple clicks.\n",
              "      quickchartButtonEl.classList.add('colab-df-spinner');\n",
              "      try {\n",
              "        const charts = await google.colab.kernel.invokeFunction(\n",
              "            'suggestCharts', [key], {});\n",
              "      } catch (error) {\n",
              "        console.error('Error during call to suggestCharts:', error);\n",
              "      }\n",
              "      quickchartButtonEl.classList.remove('colab-df-spinner');\n",
              "      quickchartButtonEl.classList.add('colab-df-quickchart-complete');\n",
              "    }\n",
              "    (() => {\n",
              "      let quickchartButtonEl =\n",
              "        document.querySelector('#df-047679e8-8e94-463a-b1da-8197b5bcc584 button');\n",
              "      quickchartButtonEl.style.display =\n",
              "        google.colab.kernel.accessAllowed ? 'block' : 'none';\n",
              "    })();\n",
              "  </script>\n",
              "</div>\n",
              "\n",
              "    </div>\n",
              "  </div>\n"
            ],
            "application/vnd.google.colaboratory.intrinsic+json": {
              "type": "dataframe",
              "summary": "{\n  \"name\": \"df\",\n  \"rows\": 8,\n  \"fields\": [\n    {\n      \"column\": \"Unnamed: 0\",\n      \"properties\": {\n        \"dtype\": \"number\",\n        \"std\": 1009.9958360023529,\n        \"min\": 0.0,\n        \"max\": 2803.0,\n        \"num_unique_values\": 7,\n        \"samples\": [\n          2803.0,\n          1401.0,\n          2101.5\n        ],\n        \"semantic_type\": \"\",\n        \"description\": \"\"\n      }\n    },\n    {\n      \"column\": \"Length (major axis)\",\n      \"properties\": {\n        \"dtype\": \"number\",\n        \"std\": 607.7531101241193,\n        \"min\": 62.71943280886033,\n        \"max\": 1946.0,\n        \"num_unique_values\": 8,\n        \"samples\": [\n          290.6092744221545,\n          279.8798828125,\n          1946.0\n        ],\n        \"semantic_type\": \"\",\n        \"description\": \"\"\n      }\n    },\n    {\n      \"column\": \"Width (minor axis)\",\n      \"properties\": {\n        \"dtype\": \"number\",\n        \"std\": 608.3668953054266,\n        \"min\": 29.916529409097045,\n        \"max\": 1861.0,\n        \"num_unique_values\": 8,\n        \"samples\": [\n          171.0259150977035,\n          170.16836547851562,\n          1861.0\n        ],\n        \"semantic_type\": \"\",\n        \"description\": \"\"\n      }\n    },\n    {\n      \"column\": \"Thickness (depth)\",\n      \"properties\": {\n        \"dtype\": \"number\",\n        \"std\": 602.5994358194758,\n        \"min\": 18.940596841229056,\n        \"max\": 1799.0,\n        \"num_unique_values\": 8,\n        \"samples\": [\n          109.70537795511599,\n          110.28013610839844,\n          1799.0\n        ],\n        \"semantic_type\": \"\",\n        \"description\": \"\"\n      }\n    },\n    {\n      \"column\": \"Area\",\n      \"properties\": {\n        \"dtype\": \"number\",\n        \"std\": 27378.55335398978,\n        \"min\": 2803.0,\n        \"max\": 89282.0,\n        \"num_unique_values\": 8,\n        \"samples\": [\n          26511.117374241883,\n          23440.5,\n          2803.0\n        ],\n        \"semantic_type\": \"\",\n        \"description\": \"\"\n      }\n    },\n    {\n      \"column\": \"Perimeter\",\n      \"properties\": {\n        \"dtype\": \"number\",\n        \"std\": 879.3255595896575,\n        \"min\": 230.63207596552226,\n        \"max\": 2803.0,\n        \"num_unique_values\": 8,\n        \"samples\": [\n          743.8637700812799,\n          707.4873685836792,\n          2803.0\n        ],\n        \"semantic_type\": \"\",\n        \"description\": \"\"\n      }\n    },\n    {\n      \"column\": \"Roundness\",\n      \"properties\": {\n        \"dtype\": \"number\",\n        \"std\": 687.8686922194587,\n        \"min\": 0.1186730648203026,\n        \"max\": 1946.0,\n        \"num_unique_values\": 8,\n        \"samples\": [\n          0.4704657463075716,\n          0.47271833376070194,\n          1946.0\n        ],\n        \"semantic_type\": \"\",\n        \"description\": \"\"\n      }\n    },\n    {\n      \"column\": \"Solidity\",\n      \"properties\": {\n        \"dtype\": \"number\",\n        \"std\": 990.7271833466318,\n        \"min\": 0.03959572421297852,\n        \"max\": 2803.0,\n        \"num_unique_values\": 8,\n        \"samples\": [\n          0.95582806584093,\n          0.9704222141774936,\n          2803.0\n        ],\n        \"semantic_type\": \"\",\n        \"description\": \"\"\n      }\n    },\n    {\n      \"column\": \"Compactness\",\n      \"properties\": {\n        \"dtype\": \"number\",\n        \"std\": 990.087902087077,\n        \"min\": 0.7940584300708998,\n        \"max\": 2803.0,\n        \"num_unique_values\": 8,\n        \"samples\": [\n          1.8252334940703812,\n          1.5764123033491113,\n          2803.0\n        ],\n        \"semantic_type\": \"\",\n        \"description\": \"\"\n      }\n    },\n    {\n      \"column\": \"Aspect Ratio\",\n      \"properties\": {\n        \"dtype\": \"number\",\n        \"std\": 354.4004367922676,\n        \"min\": 0.20661624161689365,\n        \"max\": 1004.0,\n        \"num_unique_values\": 8,\n        \"samples\": [\n          1.7532155109873806,\n          1.7057155875008787,\n          1004.0\n        ],\n        \"semantic_type\": \"\",\n        \"description\": \"\"\n      }\n    },\n    {\n      \"column\": \"Eccentricity\",\n      \"properties\": {\n        \"dtype\": \"number\",\n        \"std\": 354.7193350335518,\n        \"min\": 0.041311686873858576,\n        \"max\": 1004.0,\n        \"num_unique_values\": 8,\n        \"samples\": [\n          0.8131144037115479,\n          0.8101199146688218,\n          1004.0\n        ],\n        \"semantic_type\": \"\",\n        \"description\": \"\"\n      }\n    },\n    {\n      \"column\": \"Extent\",\n      \"properties\": {\n        \"dtype\": \"number\",\n        \"std\": 990.7947536807794,\n        \"min\": 0.047473869985034875,\n        \"max\": 2803.0,\n        \"num_unique_values\": 8,\n        \"samples\": [\n          0.7245867832845344,\n          0.7337199837199837,\n          2803.0\n        ],\n        \"semantic_type\": \"\",\n        \"description\": \"\"\n      }\n    },\n    {\n      \"column\": \"Convex hull(convex area)\",\n      \"properties\": {\n        \"dtype\": \"number\",\n        \"std\": 27750.632583422812,\n        \"min\": 2803.0,\n        \"max\": 90642.5,\n        \"num_unique_values\": 8,\n        \"samples\": [\n          27696.218159115233,\n          24589.0,\n          2803.0\n        ],\n        \"semantic_type\": \"\",\n        \"description\": \"\"\n      }\n    }\n  ]\n}"
            }
          },
          "metadata": {},
          "execution_count": 6
        }
      ]
    },
    {
      "cell_type": "code",
      "source": [
        "# Displaying the data types\n",
        "print(f'Data types:\\n{df.dtypes}\\n')\n",
        "\n",
        "# Displaying missing values\n",
        "print(f'Missing values:\\n{df.isnull().sum()}\\n')"
      ],
      "metadata": {
        "colab": {
          "base_uri": "https://localhost:8080/"
        },
        "id": "b5sI4Krr5VUe",
        "outputId": "b15eb95b-3e31-4dbf-d89a-74e10be716a4"
      },
      "execution_count": 7,
      "outputs": [
        {
          "output_type": "stream",
          "name": "stdout",
          "text": [
            "Data types:\n",
            "Unnamed: 0                    int64\n",
            "Length (major axis)         float64\n",
            "Width (minor axis)          float64\n",
            "Thickness (depth)           float64\n",
            "Area                        float64\n",
            "Perimeter                   float64\n",
            "Roundness                   float64\n",
            "Solidity                    float64\n",
            "Compactness                 float64\n",
            "Aspect Ratio                float64\n",
            "Eccentricity                float64\n",
            "Extent                      float64\n",
            "Convex hull(convex area)    float64\n",
            "Type                         object\n",
            "dtype: object\n",
            "\n",
            "Missing values:\n",
            "Unnamed: 0                     0\n",
            "Length (major axis)          857\n",
            "Width (minor axis)           942\n",
            "Thickness (depth)           1004\n",
            "Area                           0\n",
            "Perimeter                      0\n",
            "Roundness                    857\n",
            "Solidity                       0\n",
            "Compactness                    0\n",
            "Aspect Ratio                1799\n",
            "Eccentricity                1799\n",
            "Extent                         0\n",
            "Convex hull(convex area)       0\n",
            "Type                           0\n",
            "dtype: int64\n",
            "\n"
          ]
        }
      ]
    },
    {
      "cell_type": "code",
      "source": [
        "# View distributions for features\n",
        "features = df.drop(columns=['Unnamed: 0', 'Type'])\n",
        "features_without_missing_values = features.columns[features.isnull().sum() == 0]\n",
        "features = features.drop(columns=features_without_missing_values)\n",
        "\n",
        "# Number of features\n",
        "num_features = len(features.columns)\n",
        "\n",
        "# Determine grid size for subplots\n",
        "n_rows = (num_features + 2) // 3\n",
        "\n",
        "# Create a figure and a grid of subplots\n",
        "fig, axes = plt.subplots(n_rows, 3, figsize=(10, 4))\n",
        "axes = axes.flatten()\n",
        "\n",
        "# Plot each feature in a subplot\n",
        "for i, col in enumerate(features.columns):\n",
        "    axes[i].hist(features[col], edgecolor='black')\n",
        "    initial_col = col\n",
        "\n",
        "    axes[i].set_title(f'Distribution Of {col}')\n",
        "\n",
        "    axes[i].set_xlabel(col)\n",
        "    axes[i].set_ylabel('Frequency')\n",
        "    axes[i].grid()\n",
        "    axes[i].patch.set_edgecolor('black')\n",
        "    axes[i].patch.set_linewidth(1)\n",
        "\n",
        "# Remove any empty subplots\n",
        "for j in range(i + 1, len(axes)):\n",
        "    fig.delaxes(axes[j])\n",
        "\n",
        "# Adjust layout\n",
        "plt.tight_layout()\n",
        "plt.show()"
      ],
      "metadata": {
        "colab": {
          "base_uri": "https://localhost:8080/",
          "height": 406
        },
        "id": "BXlElbWk5aS7",
        "outputId": "2b965e05-b350-4ba0-be5e-f196ad304867"
      },
      "execution_count": 8,
      "outputs": [
        {
          "output_type": "display_data",
          "data": {
            "text/plain": [
              "<Figure size 1000x400 with 6 Axes>"
            ],
            "image/png": "[encoded data removed]"
          },
          "metadata": {}
        }
      ]
    },
    {
      "cell_type": "code",
      "source": [
        "len(df['Width (minor axis)'].isnull())"
      ],
      "metadata": {
        "colab": {
          "base_uri": "https://localhost:8080/"
        },
        "id": "FwIHNPOo64Zk",
        "outputId": "74fbe728-0e55-4c4f-9080-aa959410862b"
      },
      "execution_count": 9,
      "outputs": [
        {
          "output_type": "execute_result",
          "data": {
            "text/plain": [
              "2803"
            ]
          },
          "metadata": {},
          "execution_count": 9
        }
      ]
    },
    {
      "cell_type": "code",
      "source": [
        "len(df['Length (major axis)'].isnull())"
      ],
      "metadata": {
        "colab": {
          "base_uri": "https://localhost:8080/"
        },
        "id": "omFcy8V-9pob",
        "outputId": "a0f01a62-bf88-416f-c848-5700f1886237"
      },
      "execution_count": 10,
      "outputs": [
        {
          "output_type": "execute_result",
          "data": {
            "text/plain": [
              "2803"
            ]
          },
          "metadata": {},
          "execution_count": 10
        }
      ]
    },
    {
      "cell_type": "code",
      "source": [
        "len(df[df['Length (major axis)'].isnull() & df['Width (minor axis)'].isnull()])"
      ],
      "metadata": {
        "colab": {
          "base_uri": "https://localhost:8080/"
        },
        "id": "sy_jM-cR-ecu",
        "outputId": "e06f42a2-80e7-477f-cc30-0c499085b726"
      },
      "execution_count": 11,
      "outputs": [
        {
          "output_type": "execute_result",
          "data": {
            "text/plain": [
              "0"
            ]
          },
          "metadata": {},
          "execution_count": 11
        }
      ]
    },
    {
      "cell_type": "code",
      "source": [
        "len(df[df['Length (major axis)'].isnull() & df['Aspect Ratio'].isnull() & df['Eccentricity'].isnull()])"
      ],
      "metadata": {
        "colab": {
          "base_uri": "https://localhost:8080/"
        },
        "id": "ZhBZwzkZ-iz5",
        "outputId": "353822bf-d9e1-447e-d286-9124cfe3798e"
      },
      "execution_count": 12,
      "outputs": [
        {
          "output_type": "execute_result",
          "data": {
            "text/plain": [
              "857"
            ]
          },
          "metadata": {},
          "execution_count": 12
        }
      ]
    },
    {
      "cell_type": "code",
      "source": [
        "len(df[df['Width (minor axis)'].isnull() & df['Aspect Ratio'].isnull() & df['Eccentricity'].isnull()])"
      ],
      "metadata": {
        "colab": {
          "base_uri": "https://localhost:8080/"
        },
        "id": "VER8I5Nl-zgz",
        "outputId": "37ca6676-9961-46a8-96dc-a41397370ed6"
      },
      "execution_count": 13,
      "outputs": [
        {
          "output_type": "execute_result",
          "data": {
            "text/plain": [
              "942"
            ]
          },
          "metadata": {},
          "execution_count": 13
        }
      ]
    },
    {
      "cell_type": "markdown",
      "source": [
        "#### Analysis:\n",
        "\n",
        "From the analysis above we can clearly see that both `Aspect ratio` and `Eccentricity` have missing values when either `Width (minor axis)` or `Length (major axis)` have missing values. Hence, we cannot make use of the formulas for `Aspect Ratio` or `Eccentricity` to find the actual values for those missing values.\n",
        "\n",
        "Based on the distributions of the columns that contain missing values, most have a normal/near-normal distribution. We can therefore make use of mean imputation to handle missing values in those features. However, the distributions for `Length (major axis)` and `Aspect Ratio` are skewed to the right. Hence, we will make use of median imputation for those features."
      ],
      "metadata": {
        "id": "iFYrP_nH_DLv"
      }
    },
    {
      "cell_type": "markdown",
      "source": [
        "## Handle missing values"
      ],
      "metadata": {
        "id": "6WlR_AxYAs-t"
      }
    },
    {
      "cell_type": "markdown",
      "source": [
        "Before the imputation we need to carefully consider that there might be occurrences where the imputed values for `Width (minor axis)` will be higher that the imputed value for `Length (major axis)`. This will result in trying to get the square root of a negative value when calculating the values for `Eccentricity`, based on its formula. Therefore, we will handle them using the current average of `Aspect Ratio` and the imputed values for `Length (major axis)`. Note this is only done to the records having a larger `Width (minor axis)` value than `Length (major axis value)`."
      ],
      "metadata": {
        "id": "tQ1rSmwNPoS1"
      }
    },
    {
      "cell_type": "code",
      "source": [
        "features_with_normal_distribution = ['Width (minor axis)', 'Thickness (depth)', 'Roundness'] # notice that 'Eccentricity' is not included\n",
        "features_with_skewed_distribution = ['Length (major axis)'] # notice that 'Aspect Ratio' is not included\n",
        "cleaned_df = df.copy()\n",
        "average_aspect_ratio = df['Aspect Ratio'].mean()\n",
        "\n",
        "# As mentioned, we will perform median imputation for features with a skewed distribution\n",
        "for col in features_with_skewed_distribution:\n",
        "  cleaned_df[col].fillna(cleaned_df[col].median(), inplace=True)\n",
        "\n",
        "# As mentioned, we will perform mean imputation for features with a normal/near-normal distribution\n",
        "for col in features_with_normal_distribution:\n",
        "  if col == 'Width (minor axis)':\n",
        "    cleaned_df[col].fillna(cleaned_df['Length (major axis)'] / average_aspect_ratio, inplace=True)\n",
        "  else:\n",
        "    cleaned_df[col].fillna(cleaned_df[col].mean(), inplace=True)\n",
        "\n",
        "\n",
        "# Check if there are any missing values left\n",
        "print(f'Missing values:\\n{cleaned_df.isnull().sum()}\\n')"
      ],
      "metadata": {
        "colab": {
          "base_uri": "https://localhost:8080/"
        },
        "id": "ST8ID-qj-84g",
        "outputId": "06948c2d-5916-4e6c-aac1-5bdeeebf8e82"
      },
      "execution_count": 14,
      "outputs": [
        {
          "output_type": "stream",
          "name": "stdout",
          "text": [
            "Missing values:\n",
            "Unnamed: 0                     0\n",
            "Length (major axis)            0\n",
            "Width (minor axis)             0\n",
            "Thickness (depth)              0\n",
            "Area                           0\n",
            "Perimeter                      0\n",
            "Roundness                      0\n",
            "Solidity                       0\n",
            "Compactness                    0\n",
            "Aspect Ratio                1799\n",
            "Eccentricity                1799\n",
            "Extent                         0\n",
            "Convex hull(convex area)       0\n",
            "Type                           0\n",
            "dtype: int64\n",
            "\n"
          ]
        }
      ]
    },
    {
      "cell_type": "markdown",
      "source": [
        "Notice that we did not replace the missing values for `Eccentricity` or `Aspect Ratio`, even though we could have done the same as with the other features. The reason I choose not to replace them, is because these values are dependent on both `Length (major axis)` and `Width (minor axis)`. Therefore, we can make use of their respective formulas to calculate each missing value more accurate, instead of just using the mean or median imputations."
      ],
      "metadata": {
        "id": "aTUaC1VsJhup"
      }
    },
    {
      "cell_type": "code",
      "source": [
        "def calculate_eccentricity(df_row):\n",
        "  if pd.isna(df_row['Width (minor axis)']):\n",
        "      raise ValueError(\"Width (minor axis) cannot be NaN\")\n",
        "\n",
        "  if pd.isna(df_row['Length (major axis)']):\n",
        "      raise ValueError(\"Length (major axis) cannot be NaN\")\n",
        "\n",
        "  return np.sqrt(1 - ((df_row['Width (minor axis)'] / df_row['Length (major axis)']) ** 2))\n",
        "\n",
        "def calculate_aspect_ratio(df_row):\n",
        "  if pd.isna(df_row['Width (minor axis)']):\n",
        "      raise ValueError(\"Width (minor axis) cannot be NaN\")\n",
        "\n",
        "  if pd.isna(df_row['Length (major axis)']):\n",
        "      raise ValueError(\"Length (major axis) cannot be NaN\")\n",
        "\n",
        "  return df_row['Width (minor axis)'] / df_row['Length (major axis)']\n",
        "\n",
        "cleaned_df['Eccentricity'] = cleaned_df.apply(calculate_eccentricity, axis=1)\n",
        "cleaned_df['Aspect Ratio'] = cleaned_df.apply(calculate_aspect_ratio, axis=1)"
      ],
      "metadata": {
        "id": "26MDkgVmJgJH"
      },
      "execution_count": 15,
      "outputs": []
    },
    {
      "cell_type": "markdown",
      "source": [
        "## Standardising the data\n",
        "\n",
        "- **Robust scaling:** We use the RobustScaler to scale the numerical features. Since there seems to be some existens of outliers (after handling missing values), the outliers might introduce some bias to the classification model. Min-max scaling is also deemed to sensitive to outliers and may lose important information when scaling to a range of `[0,1]`. As for standard scaling, it is also sensitive to outliers and assumes the data has a normal distribution, which is not the case here. Hence, robust scaling is used."
      ],
      "metadata": {
        "id": "N45JaJOYDqQu"
      }
    },
    {
      "cell_type": "code",
      "source": [
        "# Using robust scaling for numerical features\n",
        "scaler = RobustScaler()\n",
        "scaled_features = scaler.fit_transform(cleaned_df.drop(columns=['Type']))\n",
        "scaled_features = pd.DataFrame(scaled_features, columns=cleaned_df.columns[:-1])"
      ],
      "metadata": {
        "id": "r_MAUfKiD4jX"
      },
      "execution_count": 16,
      "outputs": []
    },
    {
      "cell_type": "markdown",
      "source": [
        "## Encoding the data\n",
        "\n",
        "- **One-hot encoding:** We choose to set the `sparse_output` flag to `True`. This helps to save computational cost and is thus more memory efficient."
      ],
      "metadata": {
        "id": "ngWgsKK4ZZUK"
      }
    },
    {
      "cell_type": "code",
      "source": [
        "# Using one-hot encoding to encode the class label\n",
        "encoder = OneHotEncoder(sparse_output=True)\n",
        "encoded_labels = encoder.fit_transform(cleaned_df[['Type']])\n",
        "encoded_labels = encoded_labels.toarray()"
      ],
      "metadata": {
        "id": "XUSDO89cZaza"
      },
      "execution_count": 17,
      "outputs": []
    },
    {
      "cell_type": "markdown",
      "source": [
        "## Shuffling and Splitting the data\n",
        "Shuffling with Scikit-learn."
      ],
      "metadata": {
        "id": "f98v-SGXT_3l"
      }
    },
    {
      "cell_type": "code",
      "source": [
        "combined_cleaned_df = pd.concat([pd.DataFrame(scaled_features), pd.DataFrame(encoded_labels, columns=encoder.get_feature_names_out(['Type']))], axis=1)\n",
        "\n",
        "# Combine the data\n",
        "X = combined_cleaned_df.iloc[:, :-3]\n",
        "y = combined_cleaned_df.iloc[:, -1]\n",
        "\n",
        "# Shuffle\n",
        "X, y = shuffle(X, y, random_state=99)"
      ],
      "metadata": {
        "id": "7u548REBepMM"
      },
      "execution_count": 18,
      "outputs": []
    },
    {
      "cell_type": "markdown",
      "source": [
        "## Splitting the data\n",
        "\n",
        "**Splitting Process:**\n",
        "\n",
        "- **First Split:** Split the data into a Training Set (60%) and a Temporary Set (40%).\n",
        "\n",
        "- **Second Split:** Separate the Temporary Set into a Validation Set (20% original data) and a Test Set (20% original data). This method ensures that the model's performance is evaluated without bias and not influenced by the data used for training or validation."
      ],
      "metadata": {
        "id": "-EiVskT2eKVd"
      }
    },
    {
      "cell_type": "code",
      "source": [
        "X_train, X_temp, y_train, y_temp = train_test_split(X, y, test_size=0.4, random_state=99)\n",
        "X_val, X_test, y_val, y_test = train_test_split(X_temp, y_temp, test_size=0.5, random_state=99)\n",
        "\n",
        "print(f\"Training set: {X_train.shape[0]} samples\")\n",
        "print(f\"Validation set: {X_val.shape[0]} samples\")\n",
        "print(f\"Test set: {X_test.shape[0]} samples\")"
      ],
      "metadata": {
        "colab": {
          "base_uri": "https://localhost:8080/"
        },
        "id": "k3nDJB20DDdc",
        "outputId": "5e876e8a-807b-4db9-f176-73d9590b21a7"
      },
      "execution_count": 19,
      "outputs": [
        {
          "output_type": "stream",
          "name": "stdout",
          "text": [
            "Training set: 1681 samples\n",
            "Validation set: 561 samples\n",
            "Test set: 561 samples\n"
          ]
        }
      ]
    },
    {
      "cell_type": "code",
      "source": [],
      "metadata": {
        "id": "Ta1yM-L3cCIu"
      },
      "execution_count": 19,
      "outputs": []
    }
  ]
}